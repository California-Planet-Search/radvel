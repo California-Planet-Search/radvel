{
 "cells": [
  {
   "cell_type": "markdown",
   "metadata": {},
   "source": [
    "## K2-24 Fitting & MCMC\n",
    "\n",
    "Using the K2-24 (EPIC-203771098) dataset, we demonstrate how to use the radvel API to:\n",
    "\n",
    "- perform a max-likelihood fit\n",
    "- do an MCMC exploration of the posterior space\n",
    "- plot the results\n"
   ]
  },
  {
   "cell_type": "markdown",
   "metadata": {},
   "source": [
    "Perform some preliminary imports:"
   ]
  },
  {
   "cell_type": "code",
   "execution_count": null,
   "metadata": {
    "collapsed": true
   },
   "outputs": [],
   "source": [
    "%matplotlib inline\n",
    "\n",
    "import os\n",
    "\n",
    "import matplotlib\n",
    "import numpy as np\n",
    "import pylab as pl\n",
    "import pandas as pd\n",
    "from scipy import optimize\n",
    "\n",
    "import corner\n",
    "\n",
    "import radvel\n",
    "import radvel.plotting\n",
    "\n",
    "matplotlib.rcParams['font.size'] = 14"
   ]
  },
  {
   "cell_type": "markdown",
   "metadata": {},
   "source": [
    "Define a function that we will use to initialize the ``radvel.Parameters`` and ``radvel.RVModel`` objects"
   ]
  },
  {
   "cell_type": "code",
   "execution_count": null,
   "metadata": {
    "collapsed": true
   },
   "outputs": [],
   "source": [
    "def initialize_model():\n",
    "    time_base = 2420\n",
    "    params = radvel.Parameters(2,basis='per tc secosw sesinw logk') # number of planets = 2\n",
    "    params['per1'] = radvel.Parameter(value=20.885258)\n",
    "    params['tc1'] = radvel.Parameter(value=2072.79438)\n",
    "    params['secosw1'] = radvel.Parameter(value=0.01)\n",
    "    params['sesinw1'] = radvel.Parameter(value=0.01)\n",
    "    params['logk1'] = radvel.Parameter(value=1.1)\n",
    "    params['per2'] = radvel.Parameter(value=42.363011)\n",
    "    params['tc2'] = radvel.Parameter(value=2082.62516)\n",
    "    params['secosw2'] = radvel.Parameter(value=0.01)\n",
    "    params['sesinw2'] = radvel.Parameter(value=0.01)\n",
    "    params['logk2'] = radvel.Parameter(value=1.1)\n",
    "    mod = radvel.RVModel(params, time_base=time_base)\n",
    "    mod.params['dvdt'] = radvel.Parameter(value=-0.02)\n",
    "    mod.params['curv'] = radvel.Parameter(value=0.01)\n",
    "    return mod\n"
   ]
  },
  {
   "cell_type": "markdown",
   "metadata": {},
   "source": [
    "Define a simple plotting function to display the data, model, and residuals"
   ]
  },
  {
   "cell_type": "code",
   "execution_count": null,
   "metadata": {
    "collapsed": true
   },
   "outputs": [],
   "source": [
    "def plot_results(like):\n",
    "    fig = pl.figure(figsize=(12,4))\n",
    "    fig = pl.gcf()\n",
    "    fig.set_tight_layout(True)\n",
    "    pl.errorbar(\n",
    "        like.x, like.model(t)+like.residuals(), \n",
    "        yerr=like.yerr, fmt='o'\n",
    "        )\n",
    "    pl.plot(ti, like.model(ti))\n",
    "    pl.xlabel('Time')\n",
    "    pl.ylabel('RV')\n",
    "    pl.draw()"
   ]
  },
  {
   "cell_type": "markdown",
   "metadata": {},
   "source": [
    "Load up the K2-24 data. In this example the RV data and parameter starting guesses are stored in an csv file"
   ]
  },
  {
   "cell_type": "code",
   "execution_count": null,
   "metadata": {
    "collapsed": true
   },
   "outputs": [],
   "source": [
    "path = os.path.join(radvel.DATADIR,'epic203771098.csv')\n",
    "rv = pd.read_csv(path)\n",
    "\n",
    "t = np.array(rv.t)\n",
    "vel = np.array(rv.vel)\n",
    "errvel = rv.errvel\n",
    "ti = np.linspace(rv.t.iloc[0]-5,rv.t.iloc[-1]+5,100)"
   ]
  },
  {
   "cell_type": "markdown",
   "metadata": {},
   "source": [
    "### Fit the K2-24 RV data assuming:\n",
    "\n",
    "1. circular orbits\n",
    "2. fixed period, time of transit\n",
    "\n",
    "Set initial guesses for the parameters"
   ]
  },
  {
   "cell_type": "code",
   "execution_count": null,
   "metadata": {
    "collapsed": true
   },
   "outputs": [],
   "source": [
    "mod = initialize_model()\n",
    "like = radvel.likelihood.RVLikelihood(mod, t, vel, errvel)\n",
    "like.params['gamma'] = radvel.Parameter(value=0.1)\n",
    "like.params['jit'] = radvel.Parameter(value=1.0)"
   ]
  },
  {
   "cell_type": "markdown",
   "metadata": {},
   "source": [
    "Choose which parameters to vary or fix. By default, all `radvel.Parameter` objects will vary, so you only have to worry about setting the ones you want to hold fixed."
   ]
  },
  {
   "cell_type": "code",
   "execution_count": null,
   "metadata": {},
   "outputs": [],
   "source": [
    "like.params['secosw1'].vary = False\n",
    "like.params['sesinw1'].vary = False\n",
    "like.params['secosw2'].vary = False\n",
    "like.params['sesinw2'].vary = False\n",
    "like.params['per1'].vary = False\n",
    "like.params['per2'].vary = False\n",
    "like.params['tc1'].vary = False\n",
    "like.params['tc2'].vary = False\n",
    "print(like)"
   ]
  },
  {
   "cell_type": "markdown",
   "metadata": {},
   "source": [
    "Plot the initial model"
   ]
  },
  {
   "cell_type": "code",
   "execution_count": null,
   "metadata": {},
   "outputs": [],
   "source": [
    "pl.figure()\n",
    "plot_results(like)"
   ]
  },
  {
   "cell_type": "markdown",
   "metadata": {},
   "source": [
    "Well that solution doesn't look very good. Now lets try to optimize the parameters set to vary by maximizing the likelihood.\n",
    "\n",
    "Initialize a ``radvel.Posterior`` object and add some priors"
   ]
  },
  {
   "cell_type": "code",
   "execution_count": null,
   "metadata": {
    "collapsed": true
   },
   "outputs": [],
   "source": [
    "post = radvel.posterior.Posterior(like)\n",
    "post.priors += [radvel.prior.Gaussian( 'jit', np.log(3), 0.5)]\n",
    "post.priors += [radvel.prior.Gaussian( 'logk2', np.log(5), 10)]\n",
    "post.priors += [radvel.prior.Gaussian( 'logk1', np.log(5), 10)]\n",
    "post.priors += [radvel.prior.Gaussian( 'gamma', 0, 10)]"
   ]
  },
  {
   "cell_type": "markdown",
   "metadata": {},
   "source": [
    "Maximize the likelihood and print the updated posterior object"
   ]
  },
  {
   "cell_type": "code",
   "execution_count": null,
   "metadata": {},
   "outputs": [],
   "source": [
    "res  = optimize.minimize(\n",
    "    post.neglogprob_array,     # objective function is negative log likelihood\n",
    "    post.get_vary_params(),    # initial variable parameters\n",
    "    method='Powell',           # Nelder-Mead also works\n",
    "    )\n",
    "\n",
    "plot_results(like)             # plot best fit model\n",
    "print(post)"
   ]
  },
  {
   "cell_type": "markdown",
   "metadata": {},
   "source": [
    "That looks much better!\n",
    "\n",
    "Now lets use Markov-Chain Monte Carlo (MCMC) to estimate the parameter uncertainties.\n",
<<<<<<< HEAD
    "In this example we will run 1000 steps for the sake of speed but in practice you should let it run at least 10000 steps and ~50 walkers. If the chains converge before they reach the maximum number of allowed steps it will automatically stop."
=======
    "In this example we will run 400 steps for the sake of speed but in practice you should let it run at least 10000 steps and ~50 walkers. If the chains converge before they reach the maximum number of allowed steps it will automatically stop."
>>>>>>> gp-api
   ]
  },
  {
   "cell_type": "code",
   "execution_count": null,
   "metadata": {},
   "outputs": [],
   "source": [
<<<<<<< HEAD
    "df = radvel.mcmc(post,nwalkers=20,nrun=1000)"
=======
    "df = radvel.mcmc(post,nwalkers=20,nrun=400)"
>>>>>>> gp-api
   ]
  },
  {
   "cell_type": "markdown",
   "metadata": {},
   "source": [
    "Now lets make a corner plot to display the posterior distributions."
   ]
  },
  {
   "cell_type": "code",
   "execution_count": null,
   "metadata": {
    "scrolled": false
   },
   "outputs": [],
   "source": [
    "radvel.plotting.corner_plot(post, df)"
   ]
  },
  {
   "cell_type": "markdown",
   "metadata": {},
   "source": [
    "### Eccentric Fit\n",
    "\n",
    "Allow ``secosw`` and ``sesinw`` parameters to vary"
   ]
  },
  {
   "cell_type": "code",
   "execution_count": null,
   "metadata": {
    "collapsed": true
   },
   "outputs": [],
   "source": [
    "like.params['secosw1'].vary = True\n",
    "like.params['sesinw1'].vary = True\n",
    "like.params['secosw2'].vary = True\n",
    "like.params['sesinw2'].vary = True"
   ]
  },
  {
   "cell_type": "markdown",
   "metadata": {},
   "source": [
    "Add an ``EccentricityPrior`` to ensure that eccentricity stays below 1.0. In this example we will also add a Gaussian prior on the jitter (``jit``) parameter with a center at 2.0 m/s and a width of 0.1 m/s."
   ]
  },
  {
   "cell_type": "code",
   "execution_count": null,
   "metadata": {
    "collapsed": true
   },
   "outputs": [],
   "source": [
    "post = radvel.posterior.Posterior(like)\n",
    "post.priors += [radvel.prior.EccentricityPrior( 2 )]\n",
    "post.priors += [radvel.prior.Gaussian( 'jit', np.log(2), np.log(0.1))]"
   ]
  },
  {
   "cell_type": "markdown",
   "metadata": {},
   "source": [
    "Optimize the parameters by maximizing the likelihood and plot the result"
   ]
  },
  {
   "cell_type": "code",
   "execution_count": null,
   "metadata": {},
   "outputs": [],
   "source": [
    "res  = optimize.minimize(\n",
    "    post.neglogprob_array, \n",
    "    post.get_vary_params(), \n",
    "    method='Nelder-Mead',)\n",
    "\n",
    "plot_results(like)\n",
    "print(post)"
   ]
  },
  {
   "cell_type": "markdown",
   "metadata": {},
   "source": [
    "Plot the final solution"
   ]
  },
  {
   "cell_type": "code",
   "execution_count": null,
   "metadata": {
    "scrolled": false
   },
   "outputs": [],
   "source": [
    "radvel.plotting.rv_multipanel_plot(post)"
   ]
  },
  {
   "cell_type": "code",
   "execution_count": null,
   "metadata": {
    "collapsed": true
   },
   "outputs": [],
   "source": []
  },
  {
   "cell_type": "code",
   "execution_count": null,
   "metadata": {
    "collapsed": true
   },
   "outputs": [],
   "source": []
  }
 ],
 "metadata": {
  "kernelspec": {
   "display_name": "Python 3",
   "language": "python",
   "name": "python3"
  },
  "language_info": {
   "codemirror_mode": {
    "name": "ipython",
    "version": 3
   },
   "file_extension": ".py",
   "mimetype": "text/x-python",
   "name": "python",
   "nbconvert_exporter": "python",
   "pygments_lexer": "ipython3",
   "version": "3.6.2"
  }
 },
 "nbformat": 4,
 "nbformat_minor": 1
}

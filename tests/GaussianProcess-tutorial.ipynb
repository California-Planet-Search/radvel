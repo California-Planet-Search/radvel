{
 "cells": [
  {
   "cell_type": "markdown",
   "metadata": {},
   "source": [
    "# `radvel` API Tutorial: Gaussian Process Fitting"
   ]
  },
  {
   "cell_type": "markdown",
   "metadata": {},
   "source": [
    "by Sarah Blunt\n",
    "\n",
    "### Prerequisites\n",
    "This tutorial assumes knowledge of the basic `radvel` API for $\\chi^2$ likelihood fitting. As such, please complete the following before beginning this tutorial:\n",
    "- radvel/tests/164922_Fitting+MCMC.ipynb\n",
    "- radvel/tests/K2-24_Fitting+MCMC.ipynb\n",
    "\n",
    "This tutorial also assumes knowledge of Gaussian Processes (GPs) as applied to radial velocity (RV) timeseries modeling. Grunblatt et al. (2015) and Rajpaul et al. (2015) contain excellent introductions to this topic. Also check out\"Gaussian Processes for Machine Learning,\" by Rasmussen & Williams, a free online textbook hosted at gaussianprocesses.org.\n",
    "\n",
    "### Objectives\n",
    "Using the Kepler-131 (EPIC-228732031) dataset published in Dai et al. (2017), I will show how to:\n",
    "- perform a maximum a posteriori (MAP) fit using a quasi-periodic kernel GP regression to model stellar activity (with data from multiple telescopes)\n",
    "- do an MCMC exploration of the corresponding parameter space (with data from multiple telescopes)\n",
    "\n",
    "\n"
   ]
  },
  {
   "cell_type": "markdown",
   "metadata": {},
   "source": [
    "Do some preliminary imports:"
   ]
  },
  {
   "cell_type": "code",
   "execution_count": null,
   "metadata": {},
   "outputs": [],
   "source": [
    "import numpy as np\n",
    "import pandas as pd\n",
    "import os\n",
    "import radvel\n",
    "from scipy import optimize\n",
    "\n",
    "%matplotlib inline"
   ]
  },
  {
   "cell_type": "markdown",
   "metadata": {},
   "source": [
    "Read in RV data from Dai et al. (2017):"
   ]
  },
  {
   "cell_type": "code",
   "execution_count": null,
   "metadata": {},
   "outputs": [],
   "source": [
    "data = pd.read_csv(os.path.join(radvel.DATADIR,'k2-131.txt'), sep=' ')\n",
    "\n",
    "t = np.array(data.time)\n",
    "vel = np.array(data.mnvel)\n",
    "errvel = np.array(data.errvel)\n",
    "tel = np.array(data.tel)\n",
    "\n",
    "telgrps = data.groupby('tel').groups"
   ]
  },
  {
   "cell_type": "markdown",
   "metadata": {},
   "source": [
    "We'll use a quasi-periodic covariance kernel in this fit. An element in the covariance matrix, $C_{ij}$ is defined as follows:\n",
    "\n",
    "$$\n",
    "C_{ij} = \\eta_1^2 exp[-\\frac{|t_i-t_j|^2}{\\eta_2^2} -sin^2(\\frac{\\pi|t_i-t_j|/\\eta_3}{2\\eta_4^2})] \n",
    "$$\n",
    "\n",
    "\n",
    "\n",
    "Several other kernels are implemented in `radvel`. The code for all kernels lives in radvel/gp.py. Check out that file if you'd like to implement a new kernel."
   ]
  },
  {
   "cell_type": "markdown",
   "metadata": {},
   "source": [
    "Define the GP hyperparameters we will use in our fit:"
   ]
  },
  {
   "cell_type": "code",
   "execution_count": null,
   "metadata": {},
   "outputs": [],
   "source": [
    "hnames = [\n",
    "    'gp_amp', # eta_1; GP variability amplitude\n",
    "    'gp_explength', # eta_2; GP non-periodic characteristic length\n",
    "    'gp_per', # eta_3; GP variability period\n",
    "    'gp_perlength', # eta_4; GP periodic characteristic length\n",
    "]"
   ]
  },
  {
   "cell_type": "markdown",
   "metadata": {},
   "source": [
    "Define some numbers (derived from photometry) that we will use in our priors on the GP hyperparameters:"
   ]
  },
  {
   "cell_type": "code",
   "execution_count": null,
   "metadata": {},
   "outputs": [],
   "source": [
    "gp_explength_mean = 9.5*np.sqrt(2.) # sqrt(2)*tau in Dai+ 2017 [days]\n",
    "gp_explength_unc = 1.0*np.sqrt(2.)\n",
    "gp_perlength_mean = np.sqrt(1./(2.*3.32)) # sqrt(1/(2*gamma)) in Dai+ 2017\n",
    "gp_perlength_unc = 0.019\n",
    "gp_per_mean = 9.64 # T_bar in Dai+ 2017 [days]\n",
    "gp_per_unc = 0.12\n",
    "\n",
    "Porb = 0.3693038 # orbital period [days]\n",
    "Porb_unc = 0.0000091 \n",
    "Tc = 2457582.9360 # [BJD]\n",
    "Tc_unc = 0.0011"
   ]
  },
  {
   "cell_type": "markdown",
   "metadata": {},
   "source": [
    "Dai et al. (2017) derive the above from photometry (see sect 7.2.1). I'm currently working on implementing joint modeling of RVs & photometry and RVs & activity indicators in `radvel`, so stay tuned if you'd like to use those features!"
   ]
  },
  {
   "cell_type": "markdown",
   "metadata": {},
   "source": [
    "Initialize `radvel.Parameters` object:"
   ]
  },
  {
   "cell_type": "code",
   "execution_count": null,
   "metadata": {},
   "outputs": [],
   "source": [
    "nplanets=1\n",
    "params = radvel.Parameters(nplanets,basis='per tc secosw sesinw k')"
   ]
  },
  {
   "cell_type": "markdown",
   "metadata": {},
   "source": [
    "Set initial guesses for each fitting parameter:"
   ]
  },
  {
   "cell_type": "code",
   "execution_count": null,
   "metadata": {},
   "outputs": [],
   "source": [
    "params['per1'] = radvel.Parameter(value=Porb)\n",
    "params['tc1'] = radvel.Parameter(value=Tc)\n",
    "params['sesinw1'] = radvel.Parameter(value=0.,vary=False) # fix eccentricity = 0\n",
    "params['secosw1'] = radvel.Parameter(value=0.,vary=False)\n",
    "params['k1'] = radvel.Parameter(value=6.55)\n",
    "params['dvdt'] = radvel.Parameter(value=0.,vary=False)\n",
    "params['curv'] = radvel.Parameter(value=0.,vary=False)"
   ]
  },
  {
   "cell_type": "markdown",
   "metadata": {},
   "source": [
    "Set initial guesses for GP hyperparameters:"
   ]
  },
  {
   "cell_type": "code",
   "execution_count": null,
   "metadata": {},
   "outputs": [],
   "source": [
    "params['gp_amp'] = radvel.Parameter(value=25.0)\n",
    "params['gp_explength'] = radvel.Parameter(value=gp_explength_mean) \n",
    "params['gp_per'] = radvel.Parameter(value=gp_per_mean) \n",
    "params['gp_perlength'] = radvel.Parameter(value=gp_perlength_mean)"
   ]
  },
  {
   "cell_type": "markdown",
   "metadata": {},
   "source": [
    "Instantiate a `radvel.model.RVmodel` object, with `radvel.Parameters` object as attribute:"
   ]
  },
  {
   "cell_type": "code",
   "execution_count": null,
   "metadata": {},
   "outputs": [],
   "source": [
    "gpmodel = radvel.model.RVModel(params)"
   ]
  },
  {
   "cell_type": "markdown",
   "metadata": {},
   "source": [
    "Initialize `radvel.likelihood.GPLikelihood` objects (one for each telescope):"
   ]
  },
  {
   "cell_type": "code",
   "execution_count": null,
   "metadata": {},
   "outputs": [],
   "source": [
    "jit_guesses = {'harps-n':0.5, 'pfs':5.0}\n",
    "\n",
    "likes = []\n",
    "def initialize(tel_suffix):\n",
    "\n",
    "    # Instantiate a separate likelihood object for each instrument.\n",
    "    # Each likelihood must use the same radvel.RVModel object.\n",
    "    indices = telgrps[tel_suffix]\n",
    "    like = radvel.likelihood.GPLikelihood(gpmodel, t[indices], vel[indices], \n",
    "                                          errvel[indices], hnames, suffix='_'+tel_suffix, \n",
    "                                          kernel_name=\"QuasiPer\"\n",
    "                                          )\n",
    "    # Add in instrument parameters\n",
    "    like.params['gamma_'+tel_suffix] = radvel.Parameter(value=np.mean(vel[indices]))\n",
    "    like.params['jit_'+tel_suffix] = radvel.Parameter(value=jit_guesses[tel_suffix]) \n",
    "    likes.append(like)\n",
    "\n",
    "\n",
    "for tel in instnames:\n",
    "    initialize(tel)"
   ]
  },
  {
   "cell_type": "markdown",
   "metadata": {},
   "source": [
    "Instantiate a `radvel.likelihood.CompositeLikelihood` object that has both GP likelihoods as attributes:"
   ]
  },
  {
   "cell_type": "code",
   "execution_count": null,
   "metadata": {},
   "outputs": [],
   "source": [
    "gplike = radvel.likelihood.CompositeLikelihood(likes)"
   ]
  },
  {
   "cell_type": "markdown",
   "metadata": {},
   "source": [
    "Instantiate a `radvel.Posterior` object:"
   ]
  },
  {
   "cell_type": "code",
   "execution_count": null,
   "metadata": {},
   "outputs": [],
   "source": [
    "gppost = radvel.posterior.Posterior(gplike)"
   ]
  },
  {
   "cell_type": "markdown",
   "metadata": {},
   "source": [
    "Add in priors (see Dai et al. 2017 section 7.2):"
   ]
  },
  {
   "cell_type": "code",
   "execution_count": null,
   "metadata": {},
   "outputs": [],
   "source": [
    "gppost.priors += [radvel.prior.Gaussian('per1', Porb, Porb_unc)]\n",
    "gppost.priors += [radvel.prior.Gaussian('tc1', Tc, Tc_unc)]\n",
    "gppost.priors += [radvel.prior.Jeffreys('k1', 0.01, 10.)] # min and max for Jeffrey's priors estimated by Sarah\n",
    "gppost.priors += [radvel.prior.Jeffreys('gp_amp', 0.01, 100.)]\n",
    "gppost.priors += [radvel.prior.Jeffreys('jit_pfs', 0.01, 10.)]\n",
    "gppost.priors += [radvel.prior.Jeffreys('jit_harps-n', 0.01,10.)]\n",
    "gppost.priors += [radvel.prior.Gaussian('gp_explength', gp_explength_mean, gp_explength_unc)]\n",
    "gppost.priors += [radvel.prior.Gaussian('gp_per', gp_per_mean, gp_per_unc)]\n",
    "gppost.priors += [radvel.prior.Gaussian('gp_perlength', gp_perlength_mean, gp_perlength_unc)]"
   ]
  },
  {
   "cell_type": "markdown",
   "metadata": {},
   "source": [
    "Note: our prior on `'gp_perlength'` isn't equivalent to the one Dai et al. (2017) use because our formulations of the quasi-periodic kernel are slightly different. The results aren't really affected."
   ]
  },
  {
   "cell_type": "markdown",
   "metadata": {},
   "source": [
    "Do a MAP fit:"
   ]
  },
  {
   "cell_type": "code",
   "execution_count": null,
   "metadata": {},
   "outputs": [],
   "source": [
    "res = optimize.minimize(gppost.neglogprob_array, gppost.get_vary_params(), method=\"Nelder-Mead\")\n",
    "\n",
    "print(gppost)"
   ]
  },
  {
   "cell_type": "markdown",
   "metadata": {},
   "source": [
    "Explore the full parameter space with MCMC (this will take a few minutes):"
   ]
  },
  {
   "cell_type": "code",
   "execution_count": null,
   "metadata": {},
   "outputs": [],
   "source": [
    "chains = radvel.mcmc(gppost,nrun=100000,ensembles=3,serial=True) # parallel MCMC for GPs coming soon!"
   ]
  },
  {
   "cell_type": "markdown",
   "metadata": {},
   "source": [
    "Make some nice plots:"
   ]
  },
  {
   "cell_type": "code",
   "execution_count": null,
   "metadata": {},
   "outputs": [],
   "source": [
    "radvel.plotting.rv_multipanel_plot(gppost) # max likelihhod fit + 1&2 sigma GP uncertainty bands"
   ]
  },
  {
   "cell_type": "code",
   "execution_count": null,
   "metadata": {},
   "outputs": [],
   "source": [
    "radvel.plotting.corner_plot(gppost, chains) # posterior distributions"
   ]
  },
  {
   "cell_type": "code",
   "execution_count": null,
   "metadata": {},
   "outputs": [],
   "source": [
    "quants = chains.quantile([0.159, 0.5, 0.841]) # median & 1sigma limits of posterior distributions\n",
    "\n",
    "for par in gppost.params.keys():\n",
    "    if gppost.params[par].vary:\n",
    "        med = quants[par][0.5]\n",
    "        high = quants[par][0.841] - med\n",
    "        low = med - quants[par][0.159]\n",
    "        err = np.mean([high,low])\n",
    "        err = radvel.utils.round_sig(err)\n",
    "        med, err, errhigh = radvel.utils.sigfig(med, err)\n",
    "        print('{} : {} +/- {}'.format(par, med, err))"
   ]
  },
  {
   "cell_type": "markdown",
   "metadata": {},
   "source": [
    "Compare posterior characteristics with those of Dai et al. (2017):"
   ]
  },
  {
   "cell_type": "raw",
   "metadata": {},
   "source": [
    "per1 : 0.3693038 +/- 9.1e-06\n",
    "tc1 : 2457582.936 +/- 0.0011\n",
    "k1 : 6.6 +/- 1.5\n",
    "gp_amp : 26.0 +/- 6.2\n",
    "gp_explength : 11.6 +/- 2.3\n",
    "gp_per : 9.68 +/- 0.15\n",
    "gp_perlength : 0.35 +/- 0.02\n",
    "gamma_harps-n : -6695 +/- 11\n",
    "jit_harps-n : 2.0 +/- 1.5\n",
    "gamma_pfs : -1 +/- 11\n",
    "jit_pfs : 5.3 +/- 1.4"
   ]
  },
  {
   "cell_type": "markdown",
   "metadata": {},
   "source": [
    "Thanks for going through this tutorial! As always, if you have any questions, feature requests, or problems, please file an issue on the `radvel` GitHub repo (github.com/California-Planet-Search/radvel). "
   ]
  }
 ],
 "metadata": {
  "celltoolbar": "Raw Cell Format",
  "kernelspec": {
   "display_name": "Python 3",
   "language": "python",
   "name": "python3"
  },
  "language_info": {
   "codemirror_mode": {
    "name": "ipython",
    "version": 3
   },
   "file_extension": ".py",
   "mimetype": "text/x-python",
   "name": "python",
   "nbconvert_exporter": "python",
   "pygments_lexer": "ipython3",
   "version": "3.6.3"
  }
 },
 "nbformat": 4,
 "nbformat_minor": 2
}

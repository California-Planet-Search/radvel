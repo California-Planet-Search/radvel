{
 "cells": [
  {
   "cell_type": "markdown",
   "metadata": {},
   "source": [
    "## K2-24 Fitting & MCMC\n",
    "\n",
    "Using the K2-24 (EPIC-203771098) dataset, we demonstrate how to use the radvel API to:\n",
    "\n",
    "- perform a max-likelihood fit\n",
    "- do an MCMC exploration of the posterior space\n",
    "- plot the results\n"
   ]
  },
  {
   "cell_type": "markdown",
   "metadata": {},
   "source": [
    "Perform some preliminary imports:"
   ]
  },
  {
   "cell_type": "code",
   "execution_count": 1,
   "metadata": {
    "collapsed": false
   },
   "outputs": [],
   "source": [
    "%matplotlib inline\n",
    "\n",
    "import os\n",
    "\n",
    "import matplotlib\n",
    "import numpy as np\n",
    "import pylab as pl\n",
    "import pandas as pd\n",
    "from scipy import optimize\n",
    "\n",
    "import corner\n",
    "\n",
    "import radvel\n",
    "import radvel.plotting\n",
    "\n",
    "matplotlib.rcParams['font.size'] = 14"
   ]
  },
  {
   "cell_type": "markdown",
   "metadata": {},
   "source": [
    "Define a function that we will use to initialize the ``radvel.RVParameters`` and ``radvel.RVModel`` objects"
   ]
  },
  {
   "cell_type": "code",
   "execution_count": 2,
   "metadata": {
    "collapsed": true
   },
   "outputs": [],
   "source": [
    "def initialize_model():\n",
    "    time_base = 2420\n",
    "    params = radvel.RVParameters(2,basis='per tc secosw sesinw logk')\n",
    "    params['per1'] = 20.885258\n",
    "    params['tc1'] = 2072.79438\n",
    "    params['secosw1'] = 0.01\n",
    "    params['sesinw1'] = 0.01\n",
    "    params['logk1'] = 1.1\n",
    "    params['per2'] = 42.363011\n",
    "    params['tc2'] = 2082.62516\n",
    "    params['secosw2'] = 0.01\n",
    "    params['sesinw2'] = 0.01\n",
    "    params['logk2'] = 1.1\n",
    "    mod = radvel.RVModel(params, time_base=time_base)\n",
    "    mod.params['dvdt'] = -0.02\n",
    "    mod.params['curv'] = 0.01\n",
    "    return mod\n"
   ]
  },
  {
   "cell_type": "markdown",
   "metadata": {},
   "source": [
    "Define a simple plotting function to display the data, model, and residuals"
   ]
  },
  {
   "cell_type": "code",
   "execution_count": 3,
   "metadata": {
    "collapsed": true
   },
   "outputs": [],
   "source": [
    "def plot_results(like):\n",
    "    fig = pl.figure(figsize=(12,4))\n",
    "    fig = pl.gcf()\n",
    "    pl.errorbar(\n",
    "        like.x, like.model(t)+like.residuals(), \n",
    "        yerr=like.yerr, fmt='o'\n",
    "        )\n",
    "    pl.plot(ti, like.model(ti))\n",
    "    fig.set_tight_layout(True)\n",
    "    pl.xlabel('Time')\n",
    "    pl.ylabel('RV')\n",
    "    pl.draw()"
   ]
  },
  {
   "cell_type": "markdown",
   "metadata": {},
   "source": [
    "Load up the K2-24 data. In this example the RV data and parameter starting guesses are stored in an csv file"
   ]
  },
  {
   "cell_type": "code",
   "execution_count": 4,
   "metadata": {
    "collapsed": false
   },
   "outputs": [],
   "source": [
    "path = os.path.join(radvel.DATADIR,'epic203771098.csv')\n",
    "rv = pd.read_csv(path)\n",
    "\n",
    "t = np.array(rv.t)\n",
    "vel = np.array(rv.vel)\n",
    "errvel = rv.errvel\n",
    "ti = np.linspace(rv.t.iloc[0]-5,rv.t.iloc[-1]+5,100)"
   ]
  },
  {
   "cell_type": "markdown",
   "metadata": {},
   "source": [
    "### Fit the K2-24 RV data assuming:\n",
    "\n",
    "1. circular orbits\n",
    "2. fixed period, time of transit\n",
    "\n",
    "Set initial guesses for the parameters"
   ]
  },
  {
   "cell_type": "code",
   "execution_count": 5,
   "metadata": {
    "collapsed": false
   },
   "outputs": [],
   "source": [
    "mod = initialize_model()\n",
    "like = radvel.likelihood.RVLikelihood(mod, t, vel, errvel)\n",
    "like.params['gamma'] = 0.1\n",
    "like.params['jit'] = 1.0"
   ]
  },
  {
   "cell_type": "markdown",
   "metadata": {},
   "source": [
    "Choose which parameters to vary or fix"
   ]
  },
  {
   "cell_type": "code",
   "execution_count": 6,
   "metadata": {
    "collapsed": false
   },
   "outputs": [
    {
     "name": "stdout",
     "output_type": "stream",
     "text": [
      "parameter                     value      vary\n",
      "per1                        20.8853      False\n",
      "tc1                         2072.79      False\n",
      "secosw1                        0.01      False\n",
      "sesinw1                        0.01      False\n",
      "logk1                           1.1       True\n",
      "per2                         42.363      False\n",
      "tc2                         2082.63      False\n",
      "secosw2                        0.01      False\n",
      "sesinw2                        0.01      False\n",
      "logk2                           1.1       True\n",
      "dvdt                          -0.02       True\n",
      "curv                           0.01       True\n",
      "jit                               1       True\n",
      "gamma                           0.1       True\n",
      "\n"
     ]
    }
   ],
   "source": [
    "like.vary['secosw1'] = False\n",
    "like.vary['sesinw1'] = False\n",
    "like.vary['secosw2'] = False\n",
    "like.vary['sesinw2'] = False\n",
    "like.vary['per1'] = False\n",
    "like.vary['per2'] = False\n",
    "like.vary['tc1'] = False\n",
    "like.vary['tc2'] = False\n",
    "like.vary['curv'] = True\n",
    "print like"
   ]
  },
  {
   "cell_type": "markdown",
   "metadata": {},
   "source": [
    "Plot the initial model"
   ]
  },
  {
   "cell_type": "code",
   "execution_count": 7,
   "metadata": {
    "collapsed": false
   },
   "outputs": [
    {
     "data": {
      "text/plain": [
       "<matplotlib.figure.Figure at 0x10d6b6610>"
      ]
     },
     "metadata": {},
     "output_type": "display_data"
    },
    {
     "name": "stderr",
     "output_type": "stream",
     "text": [
      "/Users/bfulton/anaconda/lib/python2.7/site-packages/matplotlib/figure.py:1742: UserWarning: This figure includes Axes that are not compatible with tight_layout, so its results might be incorrect.\n",
      "  warnings.warn(\"This figure includes Axes that are not \"\n"
     ]
    },
    {
     "data": {
      "image/png": "[encoded data removed]",
      "text/plain": [
       "<matplotlib.figure.Figure at 0x11d6f2690>"
      ]
     },
     "metadata": {},
     "output_type": "display_data"
    }
   ],
   "source": [
    "pl.figure()\n",
    "plot_results(like)"
   ]
  },
  {
   "cell_type": "markdown",
   "metadata": {},
   "source": [
    "Well that solution doesn't look very good. Now lets try to optimize the parameters set to vary by maximizing the likelihood.\n",
    "\n",
    "Initialize a ``radvel.Posterior`` object and add some priors"
   ]
  },
  {
   "cell_type": "code",
   "execution_count": null,
   "metadata": {
    "collapsed": false
   },
   "outputs": [],
   "source": [
    "post = radvel.posterior.Posterior(like)\n",
    "post.priors += [radvel.prior.Gaussian( 'jit', np.log(3), 0.5)]\n",
    "post.priors += [radvel.prior.Gaussian( 'logk2', np.log(5), 10)]\n",
    "post.priors += [radvel.prior.Gaussian( 'logk1', np.log(5), 10)]\n",
    "post.priors += [radvel.prior.Gaussian( 'gamma', 0, 10)]"
   ]
  },
  {
   "cell_type": "markdown",
   "metadata": {},
   "source": [
    "Maximize the likelihood and print the updated posterior object"
   ]
  },
  {
   "cell_type": "code",
   "execution_count": null,
   "metadata": {
    "collapsed": false
   },
   "outputs": [],
   "source": [
    "res  = optimize.minimize(\n",
    "    post.neglogprob_array,     # objective function is negative log likelihood\n",
    "    post.get_vary_params(),    # initial variable parameters\n",
    "    method='Powell',           # Nelder-Mead also works\n",
    "    )\n",
    "\n",
    "plot_results(like)             # plot best fit model\n",
    "print post"
   ]
  },
  {
   "cell_type": "markdown",
   "metadata": {},
   "source": [
    "That looks much better!\n",
    "\n",
    "Now lets use Markov-Chain Monte Carlo (MCMC) to estimate the parameter uncertainties.\n",
    "In this example we will run 1000 steps for the sake of speed but in practice you should let it run at least 10000 steps and ~50 walkers. If the chains converge before they reach the maximum number of allowed steps it will automatically stop."
   ]
  },
  {
   "cell_type": "code",
   "execution_count": null,
   "metadata": {
    "collapsed": false
   },
   "outputs": [],
   "source": [
    "df = radvel.mcmc(post,nwalkers=20,nrun=1000)"
   ]
  },
  {
   "cell_type": "markdown",
   "metadata": {},
   "source": [
    "Now lets make a corner plot to display the posterior distributions."
   ]
  },
  {
   "cell_type": "code",
   "execution_count": null,
   "metadata": {
    "collapsed": false,
    "scrolled": false
   },
   "outputs": [],
   "source": [
    "radvel.plotting.corner_plot(post, df)"
   ]
  },
  {
   "cell_type": "markdown",
   "metadata": {},
   "source": [
    "### Eccentric Fit\n",
    "\n",
    "Allow ``secosw`` and ``sesinw`` parameters to vary"
   ]
  },
  {
   "cell_type": "code",
   "execution_count": null,
   "metadata": {
    "collapsed": false
   },
   "outputs": [],
   "source": [
    "like.vary.update(secosw1=True,\n",
    "                 sesinw1=True,\n",
    "                 secosw2=True,\n",
    "                 sesinw2=True)"
   ]
  },
  {
   "cell_type": "markdown",
   "metadata": {},
   "source": [
    "Add an ``EccentricityPrior`` to ensure that eccentricity stays below 1.0. In this example we will also add a Gaussian prior on the jitter (``jit``) parameter with a center at 2.0 m/s and a width of 0.1 m/s."
   ]
  },
  {
   "cell_type": "code",
   "execution_count": null,
   "metadata": {
    "collapsed": false
   },
   "outputs": [],
   "source": [
    "post = radvel.posterior.Posterior(like)\n",
    "post.priors += [radvel.prior.EccentricityPrior( 2 )]\n",
    "post.priors += [radvel.prior.Gaussian( 'jit', np.log(2), np.log(0.1))]"
   ]
  },
  {
   "cell_type": "markdown",
   "metadata": {},
   "source": [
    "Optimize the parameters by maximizing the likelihood and plot the result"
   ]
  },
  {
   "cell_type": "code",
   "execution_count": null,
   "metadata": {
    "collapsed": false
   },
   "outputs": [],
   "source": [
    "res  = optimize.minimize(\n",
    "    post.neglogprob_array, \n",
    "    post.get_vary_params(), \n",
    "    method='Nelder-Mead',)\n",
    "\n",
    "plot_results(like)\n",
    "print post"
   ]
  },
  {
   "cell_type": "markdown",
   "metadata": {},
   "source": [
    "Run the MCMC again"
   ]
  },
  {
   "cell_type": "code",
   "execution_count": null,
   "metadata": {
    "collapsed": false
   },
   "outputs": [],
   "source": [
    "df = radvel.mcmc(post,threads=1,nwalkers=20,nrun=1000)"
   ]
  },
  {
   "cell_type": "markdown",
   "metadata": {},
   "source": [
    "Convert into more physical parameters and make another corner plot"
   ]
  },
  {
   "cell_type": "code",
   "execution_count": null,
   "metadata": {
    "collapsed": false
   },
   "outputs": [],
   "source": [
    "df['k1'] = np.exp(df['logk1'])\n",
    "df['k2'] = np.exp(df['logk2'])\n",
    "df['jit'] = np.exp(df['jit'])\n",
    "df['e1'] = df['secosw1']**2 + df['sesinw1']**2\n",
    "df['e2'] = df['secosw2']**2 + df['sesinw2']**2\n",
    "\n",
    "df['ecosw1'] = df['secosw1']*np.sqrt(df['e1'])\n",
    "df['esinw1'] = df['sesinw1']*np.sqrt(df['e1'])\n",
    "\n",
    "df['ecosw2'] = df['secosw2']*np.sqrt(df['e2'])\n",
    "df['esinw2'] = df['sesinw2']*np.sqrt(df['e2'])\n",
    "\n",
    "\n",
    "labels = 'k1 k2 jit e1 e2'.split()\n",
    "fig = corner.corner(\n",
    "    df[labels],\n",
    "    labels=labels,\n",
    "    levels=[0.68,0.95],\n",
    "    plot_datapoints=False,\n",
    "    smooth=True,\n",
    "    bins=20,\n",
    "    quantiles=[.14,.5,.84]\n",
    "    )"
   ]
  },
  {
   "cell_type": "markdown",
   "metadata": {},
   "source": [
    "Plot the final solution"
   ]
  },
  {
   "cell_type": "code",
   "execution_count": null,
   "metadata": {
    "collapsed": false
   },
   "outputs": [],
   "source": [
    "radvel.plotting.rv_multipanel_plot(post)"
   ]
  },
  {
   "cell_type": "code",
   "execution_count": null,
   "metadata": {
    "collapsed": true
   },
   "outputs": [],
   "source": []
  }
 ],
 "metadata": {
  "kernelspec": {
   "display_name": "Python 2",
   "language": "python",
   "name": "python2"
  },
  "language_info": {
   "codemirror_mode": {
    "name": "ipython",
    "version": 2
   },
   "file_extension": ".py",
   "mimetype": "text/x-python",
   "name": "python",
   "nbconvert_exporter": "python",
   "pygments_lexer": "ipython2",
   "version": "2.7.13"
  }
 },
 "nbformat": 4,
 "nbformat_minor": 0
}

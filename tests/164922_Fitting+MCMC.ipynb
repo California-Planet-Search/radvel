{
 "cells": [
  {
   "cell_type": "markdown",
   "metadata": {},
   "source": [
    "# 164992_Fitting+MCMC\n",
    "\n",
    "Using HD164992 dataset, we demonstrate how to\n",
    "\n",
    "- perform a max-likelihood fit (with multiple telescopes)\n",
    "- do an MCMC exploration of the posterior space (with multiple telescopes)\n"
   ]
  },
  {
   "cell_type": "code",
   "execution_count": null,
   "metadata": {
    "collapsed": false
   },
   "outputs": [],
   "source": [
    "# Preliminary imports\n",
    "#%pylab osx\n",
    "%pylab inline\n",
    "import radvel\n",
    "import radvel.likelihood\n",
    "import radvel.plotting\n",
    "import copy\n",
    "import pandas as pd\n",
    "import os\n",
    "from scipy import optimize\n",
    "import corner\n",
    "from astropy.time import Time\n",
    "import numpy as np\n",
    "from numpy import *\n",
    "import copy\n",
    "\n",
    "rcParams['font.size'] = 18"
   ]
  },
  {
   "cell_type": "code",
   "execution_count": null,
   "metadata": {
    "collapsed": false
   },
   "outputs": [],
   "source": [
    "def bin_same_night(rv):\n",
    "    rv['jd_date'] = rv['time'].apply(lambda x: np.int(np.floor(x)))\n",
    "    rv_mean = rv.groupby('jd_date',as_index=False).mean()\n",
    "    rv_n = rv.groupby('jd_date',as_index=False).size()\n",
    "    print rv['tel'].iloc[0], len(rv_n)\n",
    "    rv_mean['errvel'] = rv_mean['errvel'] / np.array(np.sqrt(rv_n))\n",
    "    return rv_mean\n",
    "\n",
    "path = os.path.join(radvel.DATADIR,'164922_fixed.txt')\n",
    "data = pd.read_csv(path, usecols=(0,1,2,3), delim_whitespace=True)\n",
    "\n",
    "rv_hires_rk = data.query(\"tel == 'k'\")\n",
    "rv_hires_rj = data.query(\"tel == 'j'\")\n",
    "rv_apf = data.query(\"tel == 'a'\")\n",
    "\n",
    "rv_hires_rj = bin_same_night(rv_hires_rj)\n",
    "rv_hires_rk = bin_same_night(rv_hires_rk)\n",
    "rv_apf = bin_same_night(rv_apf)\n",
    "\n",
    "t_start = min(data['time'].values)\n",
    "t_stop = max(data['time'].values)\n",
    "ti = linspace(t_start,t_stop,10000)"
   ]
  },
  {
   "cell_type": "code",
   "execution_count": null,
   "metadata": {
    "collapsed": false
   },
   "outputs": [],
   "source": [
    "#Some conveinence functions\n",
    "def initialize_model():\n",
    "    time_base = 2456778\n",
    "    params = radvel.RVParameters(2,basis='per tc secosw sesinw logk')\n",
    "    params['per1'] = 1201.1 + 0.4\n",
    "    params['tc1'] = 2456778 + 1\n",
    "    params['secosw1'] = 0.01 \n",
    "    params['sesinw1'] = 0.01\n",
    "    params['logk1'] = 1\n",
    "    params['per2'] = 75.765 + 0.1\n",
    "    params['tc2'] = 2456277.6\n",
    "    params['secosw2'] = 0.01\n",
    "    params['sesinw2'] = 0.01\n",
    "    params['logk2'] = 1\n",
    "    params['dvdt'] = 0\n",
    "    params['curv'] = 0\n",
    "    mod = radvel.RVModel(params, time_base=time_base)\n",
    "    return mod\n",
    "\n",
    "def plot_results(like,color,label):\n",
    "    fig = gcf()\n",
    "    axL = fig.get_axes()\n",
    "    jit = like.params[like.jit_param]\n",
    "    yerr = np.sqrt(like.yerr**2 + jit**2)\n",
    "    bjd0 = 2450000\n",
    "\n",
    "    sca(axL[0])\n",
    "    errorbar(\n",
    "        like.x-bjd0, like.model(like.x)+like.residuals(), \n",
    "        yerr=yerr, fmt='o',color=color,label=label\n",
    "        )\n",
    "    plot(ti-bjd0, like.model(ti), 'g-')\n",
    "    fig.set_tight_layout(True)\n",
    "    sca(axL[1])\n",
    "    errorbar(\n",
    "        like.x-bjd0, like.residuals(), \n",
    "        yerr=yerr, fmt='o', color=color\n",
    "        )\n"
   ]
  },
  {
   "cell_type": "markdown",
   "metadata": {},
   "source": [
    "# Max-likelihood fitting\n",
    "\n",
    "1. Initialize model\n",
    "2. Build up likelihoods\n",
    "3. Instantiate posterior\n",
    "4. Perform fit"
   ]
  },
  {
   "cell_type": "code",
   "execution_count": null,
   "metadata": {
    "collapsed": false,
    "scrolled": true
   },
   "outputs": [],
   "source": [
    "def initialize_likelihood(rv,suffix):\n",
    "    like = radvel.likelihood.RVLikelihood( \n",
    "        mod, rv.time, rv.mnvel, rv.errvel,suffix=suffix)\n",
    "    return like\n",
    "mod = initialize_model()\n",
    "\n",
    "# Build up HIRES >2004 likelihood\n",
    "like_hires_rj = initialize_likelihood(rv_hires_rj,'_hires_rj')\n",
    "like_hires_rj.params['gamma_hires_rj'] = 1.0\n",
    "like_hires_rj.params['jit_hires_rj'] = np.log(1)\n",
    "\n",
    "# Build up HIRES <2004 likelihood\n",
    "like_hires_rk = initialize_likelihood(rv_hires_rk,'_hires_rk')\n",
    "like_hires_rk.params['gamma_hires_rk'] = 1.0\n",
    "like_hires_rk.params['jit_hires_rk'] = np.log(1)\n",
    "\n",
    "# Build up APF\n",
    "like_apf = initialize_likelihood(rv_apf,'_apf')\n",
    "like_apf.params['gamma_apf'] = 1.0\n",
    "like_apf.params['jit_apf'] = np.log(1)\n",
    "\n",
    "# Build composite likelihood\n",
    "like = radvel.likelihood.CompositeLikelihood(\n",
    "    [like_hires_rj,like_hires_rk,like_apf])\n",
    "\n",
    "# Set initial values for jitter\n",
    "like.params['jit_hires_rk'] = log(2.6)\n",
    "like.params['jit_hires_rj'] = log(2.6)\n",
    "like.params['jit_apf'] = log(2.6)\n",
    "\n",
    "# Do not vary dvdt or jitter (Fulton 2015)\n",
    "like.vary['dvdt'] = False\n",
    "like.vary['curv'] = False\n",
    "like.vary['jit_hires_rk'] = False\n",
    "like.vary['jit_hires_rj'] = False\n",
    "like.vary['jit_apf'] = False"
   ]
  },
  {
   "cell_type": "code",
   "execution_count": null,
   "metadata": {
    "collapsed": false
   },
   "outputs": [],
   "source": [
    "# Instantiate posterior\n",
    "post = radvel.posterior.Posterior(like)\n",
    "post0 = copy.deepcopy(post)\n",
    "\n",
    "# Add in priors\n",
    "post.priors += [radvel.prior.EccentricityPrior( 2 )] # Keeps eccentricity < 1\n",
    "\n",
    "# Perform Max-likelihood fitting\n",
    "res  = optimize.minimize(\n",
    "    post.neglogprob_array,\n",
    "    post.get_vary_params(), \n",
    "    method='Powell',\n",
    "    options=dict(maxiter=100000,maxfev=100000,xtol=1e-8)\n",
    "    )\n",
    "\n",
    "\n",
    "print \"Initial loglikelihood = %f\" % post0.logprob()\n",
    "print \"Final loglikelihood = %f\" % post.logprob()\n",
    "print post"
   ]
  },
  {
   "cell_type": "markdown",
   "metadata": {},
   "source": [
    "## Make a nice plot"
   ]
  },
  {
   "cell_type": "code",
   "execution_count": null,
   "metadata": {
    "collapsed": false
   },
   "outputs": [],
   "source": [
    "plt.close('all')\n",
    "fig,axL = subplots(nrows=2,figsize=(12,8),sharex=True)\n",
    "plot_results(like.like_list[0],'black','hires_rj') # plot best fit model\n",
    "plot_results(like.like_list[1],'Tomato','hires_rk') # plot best fit model\n",
    "plot_results(like.like_list[2],'RoyalBlue','apf') # plot best fit model\n",
    "axL[0].legend()\n",
    "bjd0 = 2450000\n",
    "xlabel('BJD_TBD - %i' % bjd0)\n",
    "ylabel('RV')\n",
    "[ax.grid() for ax in axL]\n",
    "draw()"
   ]
  },
  {
   "cell_type": "markdown",
   "metadata": {},
   "source": [
    "# Perform MCMC posterior exploration"
   ]
  },
  {
   "cell_type": "code",
   "execution_count": null,
   "metadata": {
    "collapsed": false
   },
   "outputs": [],
   "source": [
    "df = radvel.mcmc(post, nrun=1000)"
   ]
  },
  {
   "cell_type": "code",
   "execution_count": null,
   "metadata": {
    "collapsed": false
   },
   "outputs": [],
   "source": [
    "df_cps = post.params.basis.to_cps(df)\n",
    "labels = 'per1 tc1 e1 k1 per2 tc2 e2 k2 gamma_hires_rj gamma_hires_rk gamma_apf '.split()\n",
    "df_cps[labels].quantile([0.14,0.5,0.84]).T"
   ]
  },
  {
   "cell_type": "markdown",
   "metadata": {},
   "source": [
    "Compare with parameters from fulton et al. (2016)\n",
    "---------"
   ]
  },
  {
   "cell_type": "raw",
   "metadata": {},
   "source": [
    "per1 1195.6 1201.1 1206.7\n",
    "tc1 2456759 2456778 2456796\n",
    "e1 0.076 0.126 0.175\n",
    "k1 6.84 7.15 7.46\n",
    "per2 75.709 75.765 75.823 \n",
    "tc2  2456274.9 2456277.6 2456280.3\n",
    "e2 0.09 0.22 0.35\n",
    "w2 33 81 126\n",
    "k2 & 1.93 2.22 2.52 \n",
    "\n",
    "gamma_rj -0.04 0.23 0.50\n",
    "gamma_rk 0.48 1.02 1.56 \n",
    "gamma_apf -0.28 0.20 0.67\n",
    "jit 2.49 2.63 2.78\n",
    "\n",
    "dvdt = 0\n",
    "curv = 0"
   ]
  },
  {
   "cell_type": "code",
   "execution_count": null,
   "metadata": {
    "collapsed": false
   },
   "outputs": [],
   "source": [
    ",close all\n",
    "labels = 'per1 tc1 e1 k1 per2 tc2 e2 k2 gamma_hires_rj gamma_hires_rk gamma_apf '.split()\n",
    "rc('font',size=8)\n",
    "dims = len(labels)\n",
    "fig,axL = subplots(nrows=dims,ncols=dims,figsize=(10,10))\n",
    "corner_kw = dict(\n",
    "    labels=labels,\n",
    "    levels=[0.68,0.95],\n",
    "    plot_datapoints=False,\n",
    "    smooth=True,\n",
    "    bins=20,\n",
    "    )\n",
    "corner.corner(df_cps[labels],fig=fig,**corner_kw)"
   ]
  },
  {
   "cell_type": "code",
   "execution_count": null,
   "metadata": {
    "collapsed": false
   },
   "outputs": [],
   "source": [
    "reload(radvel.plotting)\n",
    "radvel.plotting.rv_multipanel_plot(post)"
   ]
  },
  {
   "cell_type": "code",
   "execution_count": null,
   "metadata": {
    "collapsed": true
   },
   "outputs": [],
   "source": []
  }
 ],
 "metadata": {
  "kernelspec": {
   "display_name": "Python 2",
   "language": "python",
   "name": "python2"
  },
  "language_info": {
   "codemirror_mode": {
    "name": "ipython",
    "version": 2
   },
   "file_extension": ".py",
   "mimetype": "text/x-python",
   "name": "python",
   "nbconvert_exporter": "python",
   "pygments_lexer": "ipython2",
   "version": "2.7.13"
  }
 },
 "nbformat": 4,
 "nbformat_minor": 0
}

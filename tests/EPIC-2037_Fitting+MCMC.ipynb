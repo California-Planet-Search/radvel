{
 "cells": [
  {
   "cell_type": "markdown",
   "metadata": {},
   "source": [
    "# EPIC-2037_Fitting+MCMC\n",
    "\n",
    "Using EPIC-2037 (K2-24) dataset, we demonstrate how to\n",
    "\n",
    "- perform a max-likelihood fit\n",
    "- do an MCMC exploration of the posterior space\n",
    "\n"
   ]
  },
  {
   "cell_type": "code",
   "execution_count": 11,
   "metadata": {
    "collapsed": false
   },
   "outputs": [
    {
     "name": "stdout",
     "output_type": "stream",
     "text": [
      "Populating the interactive namespace from numpy and matplotlib\n"
     ]
    },
    {
     "name": "stderr",
     "output_type": "stream",
     "text": [
      "WARNING: pylab import has clobbered these variables: ['mod']\n",
      "`%matplotlib` prevents importing * from pylab and numpy\n"
     ]
    }
   ],
   "source": [
    "# Preliminary imports\n",
    "%pylab inline\n",
    "import radvel\n",
    "import pandas as pd\n",
    "import os\n",
    "from scipy import optimize\n",
    "import corner\n",
    "rc('savefig',dpi=120)"
   ]
  },
  {
   "cell_type": "code",
   "execution_count": 12,
   "metadata": {
    "collapsed": false
   },
   "outputs": [],
   "source": [
    "# Load up EPIC-2037 data\n",
    "path = os.path.join(radvel.DATADIR,'epic203771098.hdf')\n",
    "planet = pd.read_hdf(path,'planet')\n",
    "rv = pd.read_hdf(path,'rv')\n",
    "def initialize_model():\n",
    "    time_base = 2420\n",
    "    params = radvel.RVParameters(2,basis='per tc secosw sesinw logk')\n",
    "    params['per1'] = planet.ix['P','b']\n",
    "    params['tc1'] = planet.ix['t0','b']\n",
    "    params['secosw1'] = 0.01\n",
    "    params['sesinw1'] = 0.01\n",
    "    params['logk1'] = 1\n",
    "    params['per2'] = planet.ix['P','c']\n",
    "    params['tc2'] = planet.ix['t0','c']\n",
    "    params['secosw2'] = 0.01\n",
    "    params['sesinw2'] = 0.01\n",
    "    params['logk2'] = 1\n",
    "    mod = radvel.RVModel(params, time_base=time_base)\n",
    "    mod.params['dvdt'] = -0.02\n",
    "    mod.params['curv'] = 0.0\n",
    "    return mod\n",
    "\n",
    "t = np.array(rv.t)\n",
    "vel = np.array(rv.vel)\n",
    "errvel = rv.errvel\n",
    "ti = linspace(rv.t.iloc[0]-5,rv.t.iloc[-1]+5,100)"
   ]
  },
  {
   "cell_type": "code",
   "execution_count": 13,
   "metadata": {
    "collapsed": true
   },
   "outputs": [],
   "source": [
    "# Convenience function to plot model and residuals\n",
    "def plot_results(like):\n",
    "    fig = gcf()\n",
    "    errorbar(\n",
    "        like.x, like.model(t)+like.residuals(), \n",
    "        yerr=like.yerr, fmt='o'\n",
    "        )\n",
    "    plot(ti, like.model(ti))\n",
    "    fig.set_tight_layout(True)\n",
    "    xlabel('Time')\n",
    "    ylabel('RV')\n",
    "    draw()"
   ]
  },
  {
   "cell_type": "markdown",
   "metadata": {},
   "source": [
    "Fit EPIC-2307 light curve\n",
    "=========================\n",
    "1. circular orbits\n",
    "2. fixed period, time of transit"
   ]
  },
  {
   "cell_type": "code",
   "execution_count": 14,
   "metadata": {
    "collapsed": false
   },
   "outputs": [],
   "source": [
    "mod = initialize_model()"
   ]
  },
  {
   "cell_type": "code",
   "execution_count": 15,
   "metadata": {
    "collapsed": false
   },
   "outputs": [
    {
     "ename": "KeyError",
     "evalue": "'gamma'",
     "output_type": "error",
     "traceback": [
      "\u001b[0;31m---------------------------------------------------------------------------\u001b[0m",
      "\u001b[0;31mKeyError\u001b[0m                                  Traceback (most recent call last)",
      "\u001b[0;32m<ipython-input-15-d0c9dcf5f952>\u001b[0m in \u001b[0;36m<module>\u001b[0;34m()\u001b[0m\n\u001b[1;32m     17\u001b[0m \u001b[0mfigure\u001b[0m\u001b[0;34m(\u001b[0m\u001b[0;34m)\u001b[0m\u001b[0;34m\u001b[0m\u001b[0m\n\u001b[1;32m     18\u001b[0m \u001b[0mplot_results\u001b[0m\u001b[0;34m(\u001b[0m\u001b[0mlike\u001b[0m\u001b[0;34m)\u001b[0m \u001b[0;31m# Plot initial model\u001b[0m\u001b[0;34m\u001b[0m\u001b[0m\n\u001b[0;32m---> 19\u001b[0;31m \u001b[0;32mprint\u001b[0m \u001b[0mlike\u001b[0m\u001b[0;34m\u001b[0m\u001b[0m\n\u001b[0m",
      "\u001b[0;32m/Users/bfulton/code/radvel/radvel/likelihood.pyc\u001b[0m in \u001b[0;36m__repr__\u001b[0;34m(self)\u001b[0m\n\u001b[1;32m     27\u001b[0m         \u001b[0;32mfor\u001b[0m \u001b[0mkey\u001b[0m \u001b[0;32min\u001b[0m \u001b[0mkeys\u001b[0m\u001b[0;34m:\u001b[0m\u001b[0;34m\u001b[0m\u001b[0m\n\u001b[1;32m     28\u001b[0m             s +=  \"{:20s}{:20g} {:>10s}\\n\".format(\n\u001b[0;32m---> 29\u001b[0;31m                 \u001b[0mkey\u001b[0m\u001b[0;34m,\u001b[0m \u001b[0mself\u001b[0m\u001b[0;34m.\u001b[0m\u001b[0mparams\u001b[0m\u001b[0;34m[\u001b[0m\u001b[0mkey\u001b[0m\u001b[0;34m]\u001b[0m\u001b[0;34m,\u001b[0m \u001b[0mstr\u001b[0m\u001b[0;34m(\u001b[0m\u001b[0mself\u001b[0m\u001b[0;34m.\u001b[0m\u001b[0mvary\u001b[0m\u001b[0;34m[\u001b[0m\u001b[0mkey\u001b[0m\u001b[0;34m]\u001b[0m\u001b[0;34m)\u001b[0m\u001b[0;34m\u001b[0m\u001b[0m\n\u001b[0m\u001b[1;32m     30\u001b[0m                  )\n\u001b[1;32m     31\u001b[0m         \u001b[0;32mreturn\u001b[0m \u001b[0ms\u001b[0m\u001b[0;34m\u001b[0m\u001b[0m\n",
      "\u001b[0;31mKeyError\u001b[0m: 'gamma'"
     ]
    },
    {
     "data": {
      "image/png": "[encoded data removed]",
      "text/plain": [
       "<matplotlib.figure.Figure at 0x10db59850>"
      ]
     },
     "metadata": {},
     "output_type": "display_data"
    }
   ],
   "source": [
    "# Set initial values of the parameters\n",
    "like = radvel.likelihood.RVLikelihood(mod, t, vel, errvel)\n",
    "like.params['gamma'] = 0.0\n",
    "like.params['logjit'] = np.log(1)\n",
    "\n",
    "# Determin which parameters vary and which do not\n",
    "like.vary['secosw1'] = False\n",
    "like.vary['sesinw1'] = False\n",
    "like.vary['secosw2'] = False\n",
    "like.vary['sesinw2'] = False\n",
    "like.vary['per1'] = False\n",
    "like.vary['per2'] = False\n",
    "like.vary['tc1'] = False\n",
    "like.vary['tc2'] = False\n",
    "like.vary['curv'] = False\n",
    "\n",
    "figure()\n",
    "plot_results(like) # Plot initial model\n",
    "print like"
   ]
  },
  {
   "cell_type": "code",
   "execution_count": null,
   "metadata": {
    "collapsed": false
   },
   "outputs": [],
   "source": [
    "post = radvel.posterior.Posterior(like)\n",
    "\n",
    "post.priors += [radvel.prior.Gaussian( 'logjit', log(3), 0.5)]\n",
    "post.priors += [radvel.prior.Gaussian( 'logk2', log(5), 10)]\n",
    "post.priors += [radvel.prior.Gaussian( 'logk1', log(5), 10)]\n",
    "post.priors += [radvel.prior.Gaussian( 'gamma', 0, 10)]\n",
    "\n",
    "res  = optimize.minimize(\n",
    "    post.neglogprob_array, # objective function is negative log likelihood\n",
    "    post.get_vary_params(), # initial variable parameters\n",
    "    method='Powell', # Nelder-Mead also works\n",
    "    )\n",
    "\n",
    "#print res\n",
    "#print like_syn\n",
    "fig = figsize(12,4)\n",
    "plot_results(like) # plot best fit model\n",
    "print post"
   ]
  },
  {
   "cell_type": "code",
   "execution_count": null,
   "metadata": {
    "collapsed": false
   },
   "outputs": [],
   "source": [
    "df = radvel.mcmc(post,threads=1,nburn=1000,nwalkers=20,nrun=1000)\n",
    "labels = [k for k in post.vary.keys() if post.vary[k]]\n",
    "fig = corner.corner(\n",
    "    df[labels],\n",
    "    labels=labels,\n",
    "    levels=[0.68,0.95],\n",
    "    plot_datapoints=False,\n",
    "    smooth=True,\n",
    "    bins=20\n",
    "    )"
   ]
  },
  {
   "cell_type": "code",
   "execution_count": null,
   "metadata": {
    "collapsed": false
   },
   "outputs": [],
   "source": [
    "labels = [k for k in post.vary.keys() if post.vary[k]]\n",
    "fig = corner.corner(\n",
    "    df.sort('lnprobability').iloc[1000:][labels],\n",
    "    labels=labels,\n",
    "    levels=[0.68,0.95],\n",
    "    plot_datapoints=False,\n",
    "    smooth=True,\n",
    "    bins=20\n",
    "    )"
   ]
  },
  {
   "cell_type": "markdown",
   "metadata": {},
   "source": [
    "Fit EPIC-2307 light curve\n",
    "=========================\n",
    "1. eccentric orbits\n",
    "2. fixed period, time of transit"
   ]
  },
  {
   "cell_type": "code",
   "execution_count": null,
   "metadata": {
    "collapsed": false
   },
   "outputs": [],
   "source": [
    "mod = initialize_model()\n",
    "like = radvel.likelihood.RVLikelihood(mod, array(rv.t), array(rv.vel), array(rv.errvel))\n",
    "\n",
    "# Eccentric orbits\n",
    "like.params['gamma'] = 0.1\n",
    "like.params['logjit'] = np.log(2)\n",
    "\n",
    "# Some syntactic sugar to update multiple fields at once\n",
    "like.vary.update(per1=False,per2=False,tc1=False,tc2=False)\n",
    "like.params.update(secosw1=0.1,sesinw1=0.1,secosw2=0.1,sesinw2=0.1)\n",
    "plot_results(like) # plot best fit model\n",
    "print like"
   ]
  },
  {
   "cell_type": "code",
   "execution_count": null,
   "metadata": {
    "collapsed": false
   },
   "outputs": [],
   "source": [
    "post = radvel.posterior.Posterior(like)\n",
    "post.priors += [radvel.prior.EccentricityPrior( 2 )]\n",
    "post.priors += [radvel.prior.Gaussian( 'logjit', log(2),0.1)]\n",
    "\n",
    "#plot_results(like) # Plot initial model\n",
    "res  = optimize.minimize(\n",
    "    post.neglogprob_array, \n",
    "    post.get_vary_params(), \n",
    "    method='Nelder-Mead',)\n",
    "\n",
    "plot_results(like) # plot best fit model\n",
    "print post"
   ]
  },
  {
   "cell_type": "code",
   "execution_count": null,
   "metadata": {
    "collapsed": false
   },
   "outputs": [],
   "source": [
    "df = radvel.mcmc(post,threads=1,nburn=1000,nwalkers=20,nrun=1000)\n",
    "labels = [k for k in post.vary.keys() if post.vary[k]]\n",
    "fig = corner.corner(\n",
    "    df[labels],labels=labels,levels=[0.68,0.95],plot_datapoints=False,smooth=True,bins=20\n",
    "    )"
   ]
  },
  {
   "cell_type": "code",
   "execution_count": null,
   "metadata": {
    "collapsed": false
   },
   "outputs": [],
   "source": [
    "df['k1'] = exp(df['logk1'])\n",
    "df['k2'] = exp(df['logk2'])\n",
    "df['jit'] = exp(df['logjit'])\n",
    "df['e1'] = df['secosw1']**2 + df['sesinw1']**2\n",
    "df['e2'] = df['secosw2']**2 + df['sesinw2']**2\n",
    "\n",
    "df['ecosw1'] = df['secosw1']*np.sqrt(df['e1'])\n",
    "df['esinw1'] = df['sesinw1']*np.sqrt(df['e1'])\n",
    "\n",
    "df['ecosw2'] = df['secosw2']*np.sqrt(df['e2'])\n",
    "df['esinw2'] = df['sesinw2']*np.sqrt(df['e2'])\n",
    "\n",
    "\n",
    "labels = 'k1 k2 jit e1 e2'.split()\n",
    "fig = corner.corner(\n",
    "    df[labels],\n",
    "    labels=labels,\n",
    "    levels=[0.68,0.95],\n",
    "    plot_datapoints=False,\n",
    "    smooth=True,\n",
    "    bins=20,\n",
    "    quantiles=[.14,.5,.84]\n",
    "    )"
   ]
  },
  {
   "cell_type": "code",
   "execution_count": null,
   "metadata": {
    "collapsed": false
   },
   "outputs": [],
   "source": [
    "df[labels].describe()"
   ]
  },
  {
   "cell_type": "code",
   "execution_count": null,
   "metadata": {
    "collapsed": true
   },
   "outputs": [],
   "source": []
  }
 ],
 "metadata": {
  "kernelspec": {
   "display_name": "Python 2",
   "language": "python",
   "name": "python2"
  },
  "language_info": {
   "codemirror_mode": {
    "name": "ipython",
    "version": 2
   },
   "file_extension": ".py",
   "mimetype": "text/x-python",
   "name": "python",
   "nbconvert_exporter": "python",
   "pygments_lexer": "ipython2",
   "version": "2.7.11"
  }
 },
 "nbformat": 4,
 "nbformat_minor": 0
}

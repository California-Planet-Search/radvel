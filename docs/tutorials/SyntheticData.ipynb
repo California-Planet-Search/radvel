{
 "cells": [
  {
   "cell_type": "code",
   "execution_count": null,
   "metadata": {
    "collapsed": false
   },
   "outputs": [],
   "source": [
    "%pylab inline\n",
    "import radvel\n",
    "\n",
    "import corner\n",
    "import copy\n",
    "\n",
    "from scipy import optimize\n",
    "rc('savefig',dpi=120)\n",
    "\n",
    "# Convenient function for plotting fits\n",
    "def plot_results(like):\n",
    "    fig = gcf()\n",
    "    errorbar(\n",
    "        like.x, like.model(t)+like.residuals(), \n",
    "        yerr=like.yerr, fmt='o'\n",
    "        )\n",
    "    plot(ti, like.model(ti))\n",
    "    xlabel('Time')\n",
    "    ylabel('RV')\n",
    "    draw()"
   ]
  },
  {
   "cell_type": "markdown",
   "metadata": {},
   "source": [
    "Intialize Keplerian model parameters\n",
    "===================================="
   ]
  },
  {
   "cell_type": "code",
   "execution_count": null,
   "metadata": {
    "collapsed": true
   },
   "outputs": [],
   "source": [
    "params = radvel.Parameters(1,basis='per tc secosw sesinw k')\n",
    "params['k1'] = radvel.Parameter(value=1)\n",
    "params['per1'] = radvel.Parameter(value=1)\n",
    "params['secosw1'] = radvel.Parameter(value=0.1)\n",
    "params['sesinw1'] = radvel.Parameter(value=+0.2)\n",
    "params['tc1'] = radvel.Parameter(value=0.)\n",
    "rv_mod = radvel.RVModel(params)"
   ]
  },
  {
   "cell_type": "markdown",
   "metadata": {},
   "source": [
    "Generate Synthetic Data\n",
    "======================="
   ]
  },
  {
   "cell_type": "code",
   "execution_count": null,
   "metadata": {
    "collapsed": false
   },
   "outputs": [],
   "source": [
    "t = np.random.random_sample(40)\n",
    "t = t * 4 - 2\n",
    "t = np.sort(t)\n",
    "ti = np.linspace(-2,2,400)\n",
    "errvel = 0.3\n",
    "jitter = 0.3\n",
    "syn_rv = rv_mod(t) + randn(t.size)*np.sqrt(errvel**2 + jitter**2)\n",
    "errorbar(t,syn_rv,yerr=errvel,fmt='.',label='Synthetic Data')\n",
    "plot(ti,rv_mod(ti),label='Underlying Model')\n",
    "xlabel('Time')\n",
    "ylabel('RV')\n",
    "legend()"
   ]
  },
  {
   "cell_type": "markdown",
   "metadata": {},
   "source": [
    "Generate a likelihood\n",
    "====================="
   ]
  },
  {
   "cell_type": "code",
   "execution_count": null,
   "metadata": {
    "collapsed": true
   },
   "outputs": [],
   "source": [
    "like_syn = radvel.likelihood.RVLikelihood(rv_mod,t,syn_rv,zeros(t.size)+errvel)\n",
    "like_syn.params['gamma'] = radvel.Parameter(value=0)\n",
    "like_syn.params['jit'] = radvel.Parameter(value=errvel)\n",
    "\n",
    "truths = copy.deepcopy(like_syn.params) # Store away model parameters for later reference\n",
    "like_syn.params.update(dict(k1=radvel.Parameter(value=3),\n",
    "                            secosw1=radvel.Parameter(value=0.1),\n",
    "                            sesinw1=radvel.Parameter(value=0.1),\n",
    "                            tc1=radvel.Parameter(value=0.1))) # perturb the starting guess\n",
    "\n",
    "like_syn.params['jit'].vary = False # Don't vary jitter\n"
   ]
  },
  {
   "cell_type": "markdown",
   "metadata": {},
   "source": [
    "Perform a maximum likelihood fit\n",
    "==============================="
   ]
  },
  {
   "cell_type": "code",
   "execution_count": null,
   "metadata": {
    "collapsed": false
   },
   "outputs": [],
   "source": [
    "plot_results(like_syn) # Plot initial model\n",
    "res  = optimize.minimize(like_syn.neglogprob_array, like_syn.get_vary_params(), method='Nelder-Mead' )\n",
    "#res  = optimize.minimize(like_syn.neglogprob_array, like_syn.get_vary_params(), method='L-BFGS-B' )\n",
    "print(res)\n",
    "print(like_syn)\n",
    "plot_results(like_syn) # plot best fit model"
   ]
  },
  {
   "cell_type": "markdown",
   "metadata": {},
   "source": [
    "Instantiate a posterior object\n",
    "==============================="
   ]
  },
  {
   "cell_type": "code",
   "execution_count": null,
   "metadata": {
    "collapsed": false
   },
   "outputs": [],
   "source": [
    "post = radvel.posterior.Posterior(like_syn)\n",
    "post.params.update(dict(per1=radvel.Parameter(value=1),\n",
    "                        k1=radvel.Parameter(value=1)))\n",
    "post.params['jit'].vary = True\n",
    "post.priors += [radvel.prior.EccentricityPrior( 1 )]\n",
    "post.priors += [radvel.prior.Gaussian( 'jit', errvel, 0.1)]\n",
    "post.priors += [radvel.prior.Gaussian( 'per1', 1, 0.1)]\n",
    "post.priors += [radvel.prior.Gaussian( 'tc1', 0, 0.1)]\n",
    "\n",
    "post.priors += [radvel.prior.SecondaryEclipsePrior(1, 0.5, 0.01)]\n",
    "\n",
    "print(post.priors)\n",
    "print(post)"
   ]
  },
  {
   "cell_type": "markdown",
   "metadata": {},
   "source": [
    "Perform maximum likelihood fit on posterior\n",
    "========================================="
   ]
  },
  {
   "cell_type": "code",
   "execution_count": null,
   "metadata": {
    "collapsed": false
   },
   "outputs": [],
   "source": [
    "res  = optimize.minimize(post.neglogprob_array, post.get_vary_params(), method='Nelder-Mead' )\n",
    "plot_results(post.likelihood)"
   ]
  },
  {
   "cell_type": "markdown",
   "metadata": {},
   "source": [
    "Use mcmc to sample the posterior distribution\n",
    "========================\n",
    "\n",
    "1. use `emcee` package to run MCMC\n",
    "1. corner plot visualizes parameters and correlations\n",
    "1. Blue lines show the synthetic model parameters"
   ]
  },
  {
   "cell_type": "code",
   "execution_count": null,
   "metadata": {
    "collapsed": false
   },
   "outputs": [],
   "source": [
    "df = radvel.mcmc(post,nwalkers=20,nrun=1000)"
   ]
  },
  {
   "cell_type": "code",
   "execution_count": null,
   "metadata": {
    "collapsed": false
   },
   "outputs": [],
   "source": [
    "labels = [k for k in post.params.keys() if post.params[k].vary]\n",
    "\n",
    "\n",
    "\n",
    "fig = corner.corner(\n",
    "    df[labels],\n",
    "    labels=labels,\n",
    "    truths=[truths[k].value for k in labels ],\n",
    "    quantiles=[0.15,0.85],\n",
    "    plot_datapoints=False,\n",
    "    smooth=True,\n",
    "    bins=20\n",
    "    )"
   ]
  },
  {
   "cell_type": "code",
   "execution_count": null,
   "metadata": {
    "collapsed": false
   },
   "outputs": [],
   "source": [
    "hist(df.lnprobability)"
   ]
  }
 ],
 "metadata": {
  "kernelspec": {
   "display_name": "Python 2",
   "language": "python",
   "name": "python2"
  },
  "language_info": {
   "codemirror_mode": {
    "name": "ipython",
    "version": 2
   },
   "file_extension": ".py",
   "mimetype": "text/x-python",
   "name": "python",
   "nbconvert_exporter": "python",
   "pygments_lexer": "ipython2",
   "version": "2.7.11"
  }
 },
 "nbformat": 4,
 "nbformat_minor": 1
}
